{
 "cells": [
  {
   "cell_type": "markdown",
   "source": [
    "# Timescapes technical exercise - Peiwen (Scott) Luo\n",
    "\n",
    "# IMPORTANT!!! please make sure data storaged in: /data/cifar-10-batches-py/ eg. data_batch_1/2/3\n",
    "\n",
    "## steps:\n",
    "- Load data\n",
    "- Load pretrained model\n",
    "- train the model\n",
    "- find all red auto\n",
    "- save images\n",
    "- save model"
   ],
   "metadata": {
    "collapsed": false,
    "pycharm": {
     "name": "#%% md\n"
    }
   }
  },
  {
   "cell_type": "code",
   "execution_count": 1,
   "outputs": [],
   "source": [
    "\n",
    "import os\n",
    "import pickle\n",
    "\n",
    "import torch\n",
    "from torch import Tensor\n",
    "\n",
    "from torchvision.transforms import ToTensor, Compose\n",
    "\n",
    "import numpy as np\n",
    "from torch.utils.data import TensorDataset, DataLoader, Dataset, random_split\n",
    "from torch.optim import lr_scheduler\n",
    "import torch.nn as nn\n",
    "import torch.nn.functional as F\n",
    "import torch.optim as optim\n",
    "\n",
    "import torchvision.transforms as transforms\n",
    "\n",
    "import cv2\n",
    "\n",
    "import matplotlib.pyplot as plt\n",
    "%matplotlib inline"
   ],
   "metadata": {
    "collapsed": false,
    "pycharm": {
     "name": "#%%\n"
    }
   }
  },
  {
   "cell_type": "markdown",
   "metadata": {
    "collapsed": true,
    "pycharm": {
     "name": "#%% md\n"
    }
   },
   "source": [
    "# Setup"
   ]
  },
  {
   "cell_type": "code",
   "execution_count": 2,
   "outputs": [],
   "source": [
    "data_dir = r\"data/cifar-10-batches-py\"\n",
    "\n",
    "train_filenames = [\"data_batch_1\",\n",
    "                   \"data_batch_2\",\n",
    "                   \"data_batch_3\",\n",
    "                   \"data_batch_4\",\n",
    "                   \"data_batch_5\"]\n",
    "test_filenames = [\"test_batch\"]\n",
    "\n",
    "batch_size = 128\n",
    "\n",
    "total_size = 50000\n",
    "train_size = 40000\n",
    "val_size = 10000\n",
    "test_size = 10000\n",
    "\n",
    "# total_size = 50000\n",
    "# train_size = 40000\n",
    "# val_size = 10000\n",
    "# test_size = 10000"
   ],
   "metadata": {
    "collapsed": false,
    "pycharm": {
     "name": "#%%\n"
    }
   }
  },
  {
   "cell_type": "markdown",
   "source": [
    "# Load data"
   ],
   "metadata": {
    "collapsed": false,
    "pycharm": {
     "name": "#%% md\n"
    }
   }
  },
  {
   "cell_type": "code",
   "execution_count": 3,
   "outputs": [],
   "source": [
    "class Cifar10Dataset(Dataset):\n",
    "    def __init__(self, input_data, targets, transform=None):\n",
    "        self.data = input_data\n",
    "        self.targets = torch.LongTensor(targets)\n",
    "        self.transform = transform\n",
    "\n",
    "    def __getitem__(self, index):\n",
    "        image = self.data[index]\n",
    "        target = self.targets[index]\n",
    "\n",
    "        image = np.reshape(image,(3,32,32))\n",
    "        image = np.transpose(image, (1,2,0))\n",
    "\n",
    "        if self.transform:\n",
    "            image = self.transform(image)\n",
    "\n",
    "        return image, target\n",
    "\n",
    "    def __len__(self):\n",
    "        return len(self.targets)"
   ],
   "metadata": {
    "collapsed": false,
    "pycharm": {
     "name": "#%%\n"
    }
   }
  },
  {
   "cell_type": "code",
   "execution_count": 4,
   "outputs": [],
   "source": [
    "def unpickle(file):\n",
    "    with open(file, 'rb') as fo:\n",
    "        dict = pickle.load(fo, encoding='bytes')\n",
    "    return dict\n",
    "\n",
    "def show_img(img_list):\n",
    "    img = np.reshape(img_list,(3,32,32))\n",
    "    imgView=np.transpose(img, (1,2,0))\n",
    "    plt.imshow(imgView)\n",
    "    plt.show()\n",
    "\n",
    "def save_img(img_list, filename):\n",
    "    img = np.reshape(img_list,(3,32,32))\n",
    "    imgView=np.transpose(img, (1,2,0))\n",
    "    cv2.imwrite(filename, cv2.cvtColor(imgView, cv2.COLOR_RGB2BGR))\n",
    "\n",
    "def load_data(data_dir, filenames):\n",
    "    data_list = []\n",
    "    label_list = []\n",
    "    for filename in filenames:\n",
    "        output = unpickle(os.path.join(data_dir,filename))\n",
    "        data_list.append(output[b'data'])\n",
    "        label_list.append(output[b'labels'])\n",
    "\n",
    "    x = np.concatenate(data_list, axis=0)\n",
    "    y = np.concatenate(label_list, axis=0)\n",
    "\n",
    "    print(x.shape, y.shape)\n",
    "\n",
    "    return x,y"
   ],
   "metadata": {
    "collapsed": false,
    "pycharm": {
     "name": "#%%\n"
    }
   }
  },
  {
   "cell_type": "code",
   "execution_count": 5,
   "outputs": [
    {
     "name": "stdout",
     "output_type": "stream",
     "text": [
      "(50000, 3072) (50000,)\n",
      "(10000, 3072) (10000,)\n"
     ]
    }
   ],
   "source": [
    "x_train,y_train = load_data(data_dir, train_filenames)\n",
    "x_test,y_test = load_data(data_dir, test_filenames)"
   ],
   "metadata": {
    "collapsed": false,
    "pycharm": {
     "name": "#%%\n"
    }
   }
  },
  {
   "cell_type": "code",
   "execution_count": 6,
   "outputs": [],
   "source": [
    "# generate the pytorch dataloader from raw dataset\n",
    "transform = transforms.Compose([transforms.ToTensor(),\n",
    "                                transforms.Normalize([0.485, 0.456, 0.406], [0.229, 0.224, 0.225])])\n",
    "\n",
    "\n",
    "train_dataset = Cifar10Dataset(x_train[:total_size],y_train[:total_size],transform=transform)\n",
    "train_dataset,val_dataset = random_split(train_dataset, [train_size, val_size])\n",
    "test_dataset = Cifar10Dataset(x_test,y_test,transform=transform)\n",
    "\n",
    "\n",
    "\n",
    "dataloaders = {'train': DataLoader(train_dataset, batch_size=batch_size, shuffle=True),\n",
    "               'val': DataLoader(val_dataset, batch_size=batch_size, shuffle=True),\n",
    "               'test': DataLoader(test_dataset, batch_size=batch_size, shuffle=True)}\n",
    "\n",
    "dataset_sizes = {'train':train_size, 'val': val_size, 'test':test_size}"
   ],
   "metadata": {
    "collapsed": false,
    "pycharm": {
     "name": "#%%\n"
    }
   }
  },
  {
   "cell_type": "markdown",
   "source": [
    "## define classes name"
   ],
   "metadata": {
    "collapsed": false,
    "pycharm": {
     "name": "#%% md\n"
    }
   }
  },
  {
   "cell_type": "code",
   "execution_count": 7,
   "outputs": [],
   "source": [
    "metadata = unpickle(os.path.join(data_dir,\"batches.meta\"))\n",
    "classes = metadata[b'label_names']"
   ],
   "metadata": {
    "collapsed": false,
    "pycharm": {
     "name": "#%%\n"
    }
   }
  },
  {
   "cell_type": "markdown",
   "source": [
    "# Train model from pretrained model"
   ],
   "metadata": {
    "collapsed": false,
    "pycharm": {
     "name": "#%% md\n"
    }
   }
  },
  {
   "cell_type": "markdown",
   "source": [
    "# Retrain pretrained model"
   ],
   "metadata": {
    "collapsed": false
   }
  },
  {
   "cell_type": "code",
   "execution_count": 11,
   "outputs": [],
   "source": [
    "# define training model function\n",
    "\n",
    "import time\n",
    "import copy\n",
    "\n",
    "def train_model(model, criterion, optimizer, scheduler, num_epochs=25):\n",
    "    since = time.time()\n",
    "\n",
    "    best_model_wts = copy.deepcopy(model.state_dict())\n",
    "    best_acc = 0.0\n",
    "\n",
    "    for epoch in range(num_epochs):\n",
    "        print('Epoch {}/{}'.format(epoch, num_epochs - 1))\n",
    "        print('-' * 10)\n",
    "\n",
    "        # Each epoch has a training and validation phase\n",
    "        for phase in ['train', 'val']:\n",
    "            if phase == 'train':\n",
    "                model.train()  # Set model to training mode\n",
    "            else:\n",
    "                model.eval()   # Set model to evaluate mode\n",
    "\n",
    "            running_loss = 0.0\n",
    "            running_corrects = 0\n",
    "\n",
    "            # Iterate over data.\n",
    "            for inputs, labels in dataloaders[phase]:\n",
    "\n",
    "                # zero the parameter gradients\n",
    "                optimizer.zero_grad()\n",
    "\n",
    "                # forward\n",
    "                # track history if only in train\n",
    "                with torch.set_grad_enabled(phase == 'train'):\n",
    "                    outputs = model(inputs)\n",
    "                    _, preds = torch.max(outputs, 1)\n",
    "                    loss = criterion(outputs, labels)\n",
    "\n",
    "                    # backward + optimize only if in training phase\n",
    "                    if phase == 'train':\n",
    "                        loss.backward()\n",
    "                        optimizer.step()\n",
    "\n",
    "                # statistics\n",
    "                running_loss += loss.item() * inputs.size(0)\n",
    "                running_corrects += torch.sum(preds == labels.data)\n",
    "            if phase == 'train':\n",
    "                scheduler.step()\n",
    "\n",
    "            epoch_loss = running_loss / dataset_sizes[phase]\n",
    "            epoch_acc = running_corrects.double() / dataset_sizes[phase]\n",
    "\n",
    "            print('{} Loss: {:.4f} Acc: {:.4f}'.format(\n",
    "                phase, epoch_loss, epoch_acc))\n",
    "\n",
    "            # deep copy the model\n",
    "            if phase == 'val' and epoch_acc > best_acc:\n",
    "                best_acc = epoch_acc\n",
    "                best_model_wts = copy.deepcopy(model.state_dict())\n",
    "\n",
    "        print()\n",
    "\n",
    "    time_elapsed = time.time() - since\n",
    "    print('Training complete in {:.0f}m {:.0f}s'.format(\n",
    "        time_elapsed // 60, time_elapsed % 60))\n",
    "    print('Best val Acc: {:4f}'.format(best_acc))\n",
    "\n",
    "    # load best model weights\n",
    "    model.load_state_dict(best_model_wts)\n",
    "    return model"
   ],
   "metadata": {
    "collapsed": false,
    "pycharm": {
     "name": "#%%\n"
    }
   }
  },
  {
   "cell_type": "markdown",
   "source": [
    "## load pretrained model"
   ],
   "metadata": {
    "collapsed": false,
    "pycharm": {
     "name": "#%% md\n"
    }
   }
  },
  {
   "cell_type": "code",
   "execution_count": 46,
   "outputs": [],
   "source": [
    "import torchvision.models as models\n",
    "\n",
    "# vgg16 = models.vgg16(pretrained=True)\n",
    "\n",
    "# resnet18 = models.resnet18(pretrained=True)\n",
    "# efficientnet_b7 = models.efficientnet_b7(pretrained=True)\n",
    "\n",
    "mobilenet_v2 = models.mobilenet_v2(pretrained=True)\n",
    "# mobilenet_v3_small = models.mobilenet_v3_small(pretrained=True)"
   ],
   "metadata": {
    "collapsed": false,
    "pycharm": {
     "name": "#%%\n"
    }
   }
  },
  {
   "cell_type": "code",
   "execution_count": 47,
   "outputs": [],
   "source": [
    "model = mobilenet_v2\n",
    "\n",
    "# for param in model.parameters():\n",
    "#     param.requires_grad = False"
   ],
   "metadata": {
    "collapsed": false,
    "pycharm": {
     "name": "#%%\n"
    }
   }
  },
  {
   "cell_type": "markdown",
   "source": [
    "## change the input layer and output layer"
   ],
   "metadata": {
    "collapsed": false,
    "pycharm": {
     "name": "#%% md\n"
    }
   }
  },
  {
   "cell_type": "code",
   "execution_count": 48,
   "outputs": [
    {
     "data": {
      "text/plain": "MobileNetV2(\n  (features): Sequential(\n    (0): ConvNormActivation(\n      (0): Conv2d(3, 32, kernel_size=(3, 3), stride=(2, 2), padding=(1, 1), bias=False)\n      (1): BatchNorm2d(32, eps=1e-05, momentum=0.1, affine=True, track_running_stats=True)\n      (2): ReLU6(inplace=True)\n    )\n    (1): InvertedResidual(\n      (conv): Sequential(\n        (0): ConvNormActivation(\n          (0): Conv2d(32, 32, kernel_size=(3, 3), stride=(1, 1), padding=(1, 1), groups=32, bias=False)\n          (1): BatchNorm2d(32, eps=1e-05, momentum=0.1, affine=True, track_running_stats=True)\n          (2): ReLU6(inplace=True)\n        )\n        (1): Conv2d(32, 16, kernel_size=(1, 1), stride=(1, 1), bias=False)\n        (2): BatchNorm2d(16, eps=1e-05, momentum=0.1, affine=True, track_running_stats=True)\n      )\n    )\n    (2): InvertedResidual(\n      (conv): Sequential(\n        (0): ConvNormActivation(\n          (0): Conv2d(16, 96, kernel_size=(1, 1), stride=(1, 1), bias=False)\n          (1): BatchNorm2d(96, eps=1e-05, momentum=0.1, affine=True, track_running_stats=True)\n          (2): ReLU6(inplace=True)\n        )\n        (1): ConvNormActivation(\n          (0): Conv2d(96, 96, kernel_size=(3, 3), stride=(2, 2), padding=(1, 1), groups=96, bias=False)\n          (1): BatchNorm2d(96, eps=1e-05, momentum=0.1, affine=True, track_running_stats=True)\n          (2): ReLU6(inplace=True)\n        )\n        (2): Conv2d(96, 24, kernel_size=(1, 1), stride=(1, 1), bias=False)\n        (3): BatchNorm2d(24, eps=1e-05, momentum=0.1, affine=True, track_running_stats=True)\n      )\n    )\n    (3): InvertedResidual(\n      (conv): Sequential(\n        (0): ConvNormActivation(\n          (0): Conv2d(24, 144, kernel_size=(1, 1), stride=(1, 1), bias=False)\n          (1): BatchNorm2d(144, eps=1e-05, momentum=0.1, affine=True, track_running_stats=True)\n          (2): ReLU6(inplace=True)\n        )\n        (1): ConvNormActivation(\n          (0): Conv2d(144, 144, kernel_size=(3, 3), stride=(1, 1), padding=(1, 1), groups=144, bias=False)\n          (1): BatchNorm2d(144, eps=1e-05, momentum=0.1, affine=True, track_running_stats=True)\n          (2): ReLU6(inplace=True)\n        )\n        (2): Conv2d(144, 24, kernel_size=(1, 1), stride=(1, 1), bias=False)\n        (3): BatchNorm2d(24, eps=1e-05, momentum=0.1, affine=True, track_running_stats=True)\n      )\n    )\n    (4): InvertedResidual(\n      (conv): Sequential(\n        (0): ConvNormActivation(\n          (0): Conv2d(24, 144, kernel_size=(1, 1), stride=(1, 1), bias=False)\n          (1): BatchNorm2d(144, eps=1e-05, momentum=0.1, affine=True, track_running_stats=True)\n          (2): ReLU6(inplace=True)\n        )\n        (1): ConvNormActivation(\n          (0): Conv2d(144, 144, kernel_size=(3, 3), stride=(2, 2), padding=(1, 1), groups=144, bias=False)\n          (1): BatchNorm2d(144, eps=1e-05, momentum=0.1, affine=True, track_running_stats=True)\n          (2): ReLU6(inplace=True)\n        )\n        (2): Conv2d(144, 32, kernel_size=(1, 1), stride=(1, 1), bias=False)\n        (3): BatchNorm2d(32, eps=1e-05, momentum=0.1, affine=True, track_running_stats=True)\n      )\n    )\n    (5): InvertedResidual(\n      (conv): Sequential(\n        (0): ConvNormActivation(\n          (0): Conv2d(32, 192, kernel_size=(1, 1), stride=(1, 1), bias=False)\n          (1): BatchNorm2d(192, eps=1e-05, momentum=0.1, affine=True, track_running_stats=True)\n          (2): ReLU6(inplace=True)\n        )\n        (1): ConvNormActivation(\n          (0): Conv2d(192, 192, kernel_size=(3, 3), stride=(1, 1), padding=(1, 1), groups=192, bias=False)\n          (1): BatchNorm2d(192, eps=1e-05, momentum=0.1, affine=True, track_running_stats=True)\n          (2): ReLU6(inplace=True)\n        )\n        (2): Conv2d(192, 32, kernel_size=(1, 1), stride=(1, 1), bias=False)\n        (3): BatchNorm2d(32, eps=1e-05, momentum=0.1, affine=True, track_running_stats=True)\n      )\n    )\n    (6): InvertedResidual(\n      (conv): Sequential(\n        (0): ConvNormActivation(\n          (0): Conv2d(32, 192, kernel_size=(1, 1), stride=(1, 1), bias=False)\n          (1): BatchNorm2d(192, eps=1e-05, momentum=0.1, affine=True, track_running_stats=True)\n          (2): ReLU6(inplace=True)\n        )\n        (1): ConvNormActivation(\n          (0): Conv2d(192, 192, kernel_size=(3, 3), stride=(1, 1), padding=(1, 1), groups=192, bias=False)\n          (1): BatchNorm2d(192, eps=1e-05, momentum=0.1, affine=True, track_running_stats=True)\n          (2): ReLU6(inplace=True)\n        )\n        (2): Conv2d(192, 32, kernel_size=(1, 1), stride=(1, 1), bias=False)\n        (3): BatchNorm2d(32, eps=1e-05, momentum=0.1, affine=True, track_running_stats=True)\n      )\n    )\n    (7): InvertedResidual(\n      (conv): Sequential(\n        (0): ConvNormActivation(\n          (0): Conv2d(32, 192, kernel_size=(1, 1), stride=(1, 1), bias=False)\n          (1): BatchNorm2d(192, eps=1e-05, momentum=0.1, affine=True, track_running_stats=True)\n          (2): ReLU6(inplace=True)\n        )\n        (1): ConvNormActivation(\n          (0): Conv2d(192, 192, kernel_size=(3, 3), stride=(2, 2), padding=(1, 1), groups=192, bias=False)\n          (1): BatchNorm2d(192, eps=1e-05, momentum=0.1, affine=True, track_running_stats=True)\n          (2): ReLU6(inplace=True)\n        )\n        (2): Conv2d(192, 64, kernel_size=(1, 1), stride=(1, 1), bias=False)\n        (3): BatchNorm2d(64, eps=1e-05, momentum=0.1, affine=True, track_running_stats=True)\n      )\n    )\n    (8): InvertedResidual(\n      (conv): Sequential(\n        (0): ConvNormActivation(\n          (0): Conv2d(64, 384, kernel_size=(1, 1), stride=(1, 1), bias=False)\n          (1): BatchNorm2d(384, eps=1e-05, momentum=0.1, affine=True, track_running_stats=True)\n          (2): ReLU6(inplace=True)\n        )\n        (1): ConvNormActivation(\n          (0): Conv2d(384, 384, kernel_size=(3, 3), stride=(1, 1), padding=(1, 1), groups=384, bias=False)\n          (1): BatchNorm2d(384, eps=1e-05, momentum=0.1, affine=True, track_running_stats=True)\n          (2): ReLU6(inplace=True)\n        )\n        (2): Conv2d(384, 64, kernel_size=(1, 1), stride=(1, 1), bias=False)\n        (3): BatchNorm2d(64, eps=1e-05, momentum=0.1, affine=True, track_running_stats=True)\n      )\n    )\n    (9): InvertedResidual(\n      (conv): Sequential(\n        (0): ConvNormActivation(\n          (0): Conv2d(64, 384, kernel_size=(1, 1), stride=(1, 1), bias=False)\n          (1): BatchNorm2d(384, eps=1e-05, momentum=0.1, affine=True, track_running_stats=True)\n          (2): ReLU6(inplace=True)\n        )\n        (1): ConvNormActivation(\n          (0): Conv2d(384, 384, kernel_size=(3, 3), stride=(1, 1), padding=(1, 1), groups=384, bias=False)\n          (1): BatchNorm2d(384, eps=1e-05, momentum=0.1, affine=True, track_running_stats=True)\n          (2): ReLU6(inplace=True)\n        )\n        (2): Conv2d(384, 64, kernel_size=(1, 1), stride=(1, 1), bias=False)\n        (3): BatchNorm2d(64, eps=1e-05, momentum=0.1, affine=True, track_running_stats=True)\n      )\n    )\n    (10): InvertedResidual(\n      (conv): Sequential(\n        (0): ConvNormActivation(\n          (0): Conv2d(64, 384, kernel_size=(1, 1), stride=(1, 1), bias=False)\n          (1): BatchNorm2d(384, eps=1e-05, momentum=0.1, affine=True, track_running_stats=True)\n          (2): ReLU6(inplace=True)\n        )\n        (1): ConvNormActivation(\n          (0): Conv2d(384, 384, kernel_size=(3, 3), stride=(1, 1), padding=(1, 1), groups=384, bias=False)\n          (1): BatchNorm2d(384, eps=1e-05, momentum=0.1, affine=True, track_running_stats=True)\n          (2): ReLU6(inplace=True)\n        )\n        (2): Conv2d(384, 64, kernel_size=(1, 1), stride=(1, 1), bias=False)\n        (3): BatchNorm2d(64, eps=1e-05, momentum=0.1, affine=True, track_running_stats=True)\n      )\n    )\n    (11): InvertedResidual(\n      (conv): Sequential(\n        (0): ConvNormActivation(\n          (0): Conv2d(64, 384, kernel_size=(1, 1), stride=(1, 1), bias=False)\n          (1): BatchNorm2d(384, eps=1e-05, momentum=0.1, affine=True, track_running_stats=True)\n          (2): ReLU6(inplace=True)\n        )\n        (1): ConvNormActivation(\n          (0): Conv2d(384, 384, kernel_size=(3, 3), stride=(1, 1), padding=(1, 1), groups=384, bias=False)\n          (1): BatchNorm2d(384, eps=1e-05, momentum=0.1, affine=True, track_running_stats=True)\n          (2): ReLU6(inplace=True)\n        )\n        (2): Conv2d(384, 96, kernel_size=(1, 1), stride=(1, 1), bias=False)\n        (3): BatchNorm2d(96, eps=1e-05, momentum=0.1, affine=True, track_running_stats=True)\n      )\n    )\n    (12): InvertedResidual(\n      (conv): Sequential(\n        (0): ConvNormActivation(\n          (0): Conv2d(96, 576, kernel_size=(1, 1), stride=(1, 1), bias=False)\n          (1): BatchNorm2d(576, eps=1e-05, momentum=0.1, affine=True, track_running_stats=True)\n          (2): ReLU6(inplace=True)\n        )\n        (1): ConvNormActivation(\n          (0): Conv2d(576, 576, kernel_size=(3, 3), stride=(1, 1), padding=(1, 1), groups=576, bias=False)\n          (1): BatchNorm2d(576, eps=1e-05, momentum=0.1, affine=True, track_running_stats=True)\n          (2): ReLU6(inplace=True)\n        )\n        (2): Conv2d(576, 96, kernel_size=(1, 1), stride=(1, 1), bias=False)\n        (3): BatchNorm2d(96, eps=1e-05, momentum=0.1, affine=True, track_running_stats=True)\n      )\n    )\n    (13): InvertedResidual(\n      (conv): Sequential(\n        (0): ConvNormActivation(\n          (0): Conv2d(96, 576, kernel_size=(1, 1), stride=(1, 1), bias=False)\n          (1): BatchNorm2d(576, eps=1e-05, momentum=0.1, affine=True, track_running_stats=True)\n          (2): ReLU6(inplace=True)\n        )\n        (1): ConvNormActivation(\n          (0): Conv2d(576, 576, kernel_size=(3, 3), stride=(1, 1), padding=(1, 1), groups=576, bias=False)\n          (1): BatchNorm2d(576, eps=1e-05, momentum=0.1, affine=True, track_running_stats=True)\n          (2): ReLU6(inplace=True)\n        )\n        (2): Conv2d(576, 96, kernel_size=(1, 1), stride=(1, 1), bias=False)\n        (3): BatchNorm2d(96, eps=1e-05, momentum=0.1, affine=True, track_running_stats=True)\n      )\n    )\n    (14): InvertedResidual(\n      (conv): Sequential(\n        (0): ConvNormActivation(\n          (0): Conv2d(96, 576, kernel_size=(1, 1), stride=(1, 1), bias=False)\n          (1): BatchNorm2d(576, eps=1e-05, momentum=0.1, affine=True, track_running_stats=True)\n          (2): ReLU6(inplace=True)\n        )\n        (1): ConvNormActivation(\n          (0): Conv2d(576, 576, kernel_size=(3, 3), stride=(2, 2), padding=(1, 1), groups=576, bias=False)\n          (1): BatchNorm2d(576, eps=1e-05, momentum=0.1, affine=True, track_running_stats=True)\n          (2): ReLU6(inplace=True)\n        )\n        (2): Conv2d(576, 160, kernel_size=(1, 1), stride=(1, 1), bias=False)\n        (3): BatchNorm2d(160, eps=1e-05, momentum=0.1, affine=True, track_running_stats=True)\n      )\n    )\n    (15): InvertedResidual(\n      (conv): Sequential(\n        (0): ConvNormActivation(\n          (0): Conv2d(160, 960, kernel_size=(1, 1), stride=(1, 1), bias=False)\n          (1): BatchNorm2d(960, eps=1e-05, momentum=0.1, affine=True, track_running_stats=True)\n          (2): ReLU6(inplace=True)\n        )\n        (1): ConvNormActivation(\n          (0): Conv2d(960, 960, kernel_size=(3, 3), stride=(1, 1), padding=(1, 1), groups=960, bias=False)\n          (1): BatchNorm2d(960, eps=1e-05, momentum=0.1, affine=True, track_running_stats=True)\n          (2): ReLU6(inplace=True)\n        )\n        (2): Conv2d(960, 160, kernel_size=(1, 1), stride=(1, 1), bias=False)\n        (3): BatchNorm2d(160, eps=1e-05, momentum=0.1, affine=True, track_running_stats=True)\n      )\n    )\n    (16): InvertedResidual(\n      (conv): Sequential(\n        (0): ConvNormActivation(\n          (0): Conv2d(160, 960, kernel_size=(1, 1), stride=(1, 1), bias=False)\n          (1): BatchNorm2d(960, eps=1e-05, momentum=0.1, affine=True, track_running_stats=True)\n          (2): ReLU6(inplace=True)\n        )\n        (1): ConvNormActivation(\n          (0): Conv2d(960, 960, kernel_size=(3, 3), stride=(1, 1), padding=(1, 1), groups=960, bias=False)\n          (1): BatchNorm2d(960, eps=1e-05, momentum=0.1, affine=True, track_running_stats=True)\n          (2): ReLU6(inplace=True)\n        )\n        (2): Conv2d(960, 160, kernel_size=(1, 1), stride=(1, 1), bias=False)\n        (3): BatchNorm2d(160, eps=1e-05, momentum=0.1, affine=True, track_running_stats=True)\n      )\n    )\n    (17): InvertedResidual(\n      (conv): Sequential(\n        (0): ConvNormActivation(\n          (0): Conv2d(160, 960, kernel_size=(1, 1), stride=(1, 1), bias=False)\n          (1): BatchNorm2d(960, eps=1e-05, momentum=0.1, affine=True, track_running_stats=True)\n          (2): ReLU6(inplace=True)\n        )\n        (1): ConvNormActivation(\n          (0): Conv2d(960, 960, kernel_size=(3, 3), stride=(1, 1), padding=(1, 1), groups=960, bias=False)\n          (1): BatchNorm2d(960, eps=1e-05, momentum=0.1, affine=True, track_running_stats=True)\n          (2): ReLU6(inplace=True)\n        )\n        (2): Conv2d(960, 320, kernel_size=(1, 1), stride=(1, 1), bias=False)\n        (3): BatchNorm2d(320, eps=1e-05, momentum=0.1, affine=True, track_running_stats=True)\n      )\n    )\n    (18): ConvNormActivation(\n      (0): Conv2d(320, 1280, kernel_size=(1, 1), stride=(1, 1), bias=False)\n      (1): BatchNorm2d(1280, eps=1e-05, momentum=0.1, affine=True, track_running_stats=True)\n      (2): ReLU6(inplace=True)\n    )\n  )\n  (classifier): Sequential(\n    (0): Dropout(p=0.2, inplace=False)\n    (1): Linear(in_features=1280, out_features=1000, bias=True)\n  )\n)"
     },
     "execution_count": 48,
     "metadata": {},
     "output_type": "execute_result"
    }
   ],
   "source": [
    "model"
   ],
   "metadata": {
    "collapsed": false,
    "pycharm": {
     "name": "#%%\n"
    }
   }
  },
  {
   "cell_type": "markdown",
   "source": [
    "### mobilenet_v2"
   ],
   "metadata": {
    "collapsed": false
   }
  },
  {
   "cell_type": "code",
   "execution_count": 49,
   "outputs": [
    {
     "data": {
      "text/plain": "MobileNetV2(\n  (features): Sequential(\n    (0): ConvNormActivation(\n      (0): Conv2d(3, 32, kernel_size=(3, 3), stride=(2, 2), padding=(1, 1), bias=False)\n      (1): BatchNorm2d(32, eps=1e-05, momentum=0.1, affine=True, track_running_stats=True)\n      (2): ReLU6(inplace=True)\n    )\n    (1): InvertedResidual(\n      (conv): Sequential(\n        (0): ConvNormActivation(\n          (0): Conv2d(32, 32, kernel_size=(3, 3), stride=(1, 1), padding=(1, 1), groups=32, bias=False)\n          (1): BatchNorm2d(32, eps=1e-05, momentum=0.1, affine=True, track_running_stats=True)\n          (2): ReLU6(inplace=True)\n        )\n        (1): Conv2d(32, 16, kernel_size=(1, 1), stride=(1, 1), bias=False)\n        (2): BatchNorm2d(16, eps=1e-05, momentum=0.1, affine=True, track_running_stats=True)\n      )\n    )\n    (2): InvertedResidual(\n      (conv): Sequential(\n        (0): ConvNormActivation(\n          (0): Conv2d(16, 96, kernel_size=(1, 1), stride=(1, 1), bias=False)\n          (1): BatchNorm2d(96, eps=1e-05, momentum=0.1, affine=True, track_running_stats=True)\n          (2): ReLU6(inplace=True)\n        )\n        (1): ConvNormActivation(\n          (0): Conv2d(96, 96, kernel_size=(3, 3), stride=(2, 2), padding=(1, 1), groups=96, bias=False)\n          (1): BatchNorm2d(96, eps=1e-05, momentum=0.1, affine=True, track_running_stats=True)\n          (2): ReLU6(inplace=True)\n        )\n        (2): Conv2d(96, 24, kernel_size=(1, 1), stride=(1, 1), bias=False)\n        (3): BatchNorm2d(24, eps=1e-05, momentum=0.1, affine=True, track_running_stats=True)\n      )\n    )\n    (3): InvertedResidual(\n      (conv): Sequential(\n        (0): ConvNormActivation(\n          (0): Conv2d(24, 144, kernel_size=(1, 1), stride=(1, 1), bias=False)\n          (1): BatchNorm2d(144, eps=1e-05, momentum=0.1, affine=True, track_running_stats=True)\n          (2): ReLU6(inplace=True)\n        )\n        (1): ConvNormActivation(\n          (0): Conv2d(144, 144, kernel_size=(3, 3), stride=(1, 1), padding=(1, 1), groups=144, bias=False)\n          (1): BatchNorm2d(144, eps=1e-05, momentum=0.1, affine=True, track_running_stats=True)\n          (2): ReLU6(inplace=True)\n        )\n        (2): Conv2d(144, 24, kernel_size=(1, 1), stride=(1, 1), bias=False)\n        (3): BatchNorm2d(24, eps=1e-05, momentum=0.1, affine=True, track_running_stats=True)\n      )\n    )\n    (4): InvertedResidual(\n      (conv): Sequential(\n        (0): ConvNormActivation(\n          (0): Conv2d(24, 144, kernel_size=(1, 1), stride=(1, 1), bias=False)\n          (1): BatchNorm2d(144, eps=1e-05, momentum=0.1, affine=True, track_running_stats=True)\n          (2): ReLU6(inplace=True)\n        )\n        (1): ConvNormActivation(\n          (0): Conv2d(144, 144, kernel_size=(3, 3), stride=(2, 2), padding=(1, 1), groups=144, bias=False)\n          (1): BatchNorm2d(144, eps=1e-05, momentum=0.1, affine=True, track_running_stats=True)\n          (2): ReLU6(inplace=True)\n        )\n        (2): Conv2d(144, 32, kernel_size=(1, 1), stride=(1, 1), bias=False)\n        (3): BatchNorm2d(32, eps=1e-05, momentum=0.1, affine=True, track_running_stats=True)\n      )\n    )\n    (5): InvertedResidual(\n      (conv): Sequential(\n        (0): ConvNormActivation(\n          (0): Conv2d(32, 192, kernel_size=(1, 1), stride=(1, 1), bias=False)\n          (1): BatchNorm2d(192, eps=1e-05, momentum=0.1, affine=True, track_running_stats=True)\n          (2): ReLU6(inplace=True)\n        )\n        (1): ConvNormActivation(\n          (0): Conv2d(192, 192, kernel_size=(3, 3), stride=(1, 1), padding=(1, 1), groups=192, bias=False)\n          (1): BatchNorm2d(192, eps=1e-05, momentum=0.1, affine=True, track_running_stats=True)\n          (2): ReLU6(inplace=True)\n        )\n        (2): Conv2d(192, 32, kernel_size=(1, 1), stride=(1, 1), bias=False)\n        (3): BatchNorm2d(32, eps=1e-05, momentum=0.1, affine=True, track_running_stats=True)\n      )\n    )\n    (6): InvertedResidual(\n      (conv): Sequential(\n        (0): ConvNormActivation(\n          (0): Conv2d(32, 192, kernel_size=(1, 1), stride=(1, 1), bias=False)\n          (1): BatchNorm2d(192, eps=1e-05, momentum=0.1, affine=True, track_running_stats=True)\n          (2): ReLU6(inplace=True)\n        )\n        (1): ConvNormActivation(\n          (0): Conv2d(192, 192, kernel_size=(3, 3), stride=(1, 1), padding=(1, 1), groups=192, bias=False)\n          (1): BatchNorm2d(192, eps=1e-05, momentum=0.1, affine=True, track_running_stats=True)\n          (2): ReLU6(inplace=True)\n        )\n        (2): Conv2d(192, 32, kernel_size=(1, 1), stride=(1, 1), bias=False)\n        (3): BatchNorm2d(32, eps=1e-05, momentum=0.1, affine=True, track_running_stats=True)\n      )\n    )\n    (7): InvertedResidual(\n      (conv): Sequential(\n        (0): ConvNormActivation(\n          (0): Conv2d(32, 192, kernel_size=(1, 1), stride=(1, 1), bias=False)\n          (1): BatchNorm2d(192, eps=1e-05, momentum=0.1, affine=True, track_running_stats=True)\n          (2): ReLU6(inplace=True)\n        )\n        (1): ConvNormActivation(\n          (0): Conv2d(192, 192, kernel_size=(3, 3), stride=(2, 2), padding=(1, 1), groups=192, bias=False)\n          (1): BatchNorm2d(192, eps=1e-05, momentum=0.1, affine=True, track_running_stats=True)\n          (2): ReLU6(inplace=True)\n        )\n        (2): Conv2d(192, 64, kernel_size=(1, 1), stride=(1, 1), bias=False)\n        (3): BatchNorm2d(64, eps=1e-05, momentum=0.1, affine=True, track_running_stats=True)\n      )\n    )\n    (8): InvertedResidual(\n      (conv): Sequential(\n        (0): ConvNormActivation(\n          (0): Conv2d(64, 384, kernel_size=(1, 1), stride=(1, 1), bias=False)\n          (1): BatchNorm2d(384, eps=1e-05, momentum=0.1, affine=True, track_running_stats=True)\n          (2): ReLU6(inplace=True)\n        )\n        (1): ConvNormActivation(\n          (0): Conv2d(384, 384, kernel_size=(3, 3), stride=(1, 1), padding=(1, 1), groups=384, bias=False)\n          (1): BatchNorm2d(384, eps=1e-05, momentum=0.1, affine=True, track_running_stats=True)\n          (2): ReLU6(inplace=True)\n        )\n        (2): Conv2d(384, 64, kernel_size=(1, 1), stride=(1, 1), bias=False)\n        (3): BatchNorm2d(64, eps=1e-05, momentum=0.1, affine=True, track_running_stats=True)\n      )\n    )\n    (9): InvertedResidual(\n      (conv): Sequential(\n        (0): ConvNormActivation(\n          (0): Conv2d(64, 384, kernel_size=(1, 1), stride=(1, 1), bias=False)\n          (1): BatchNorm2d(384, eps=1e-05, momentum=0.1, affine=True, track_running_stats=True)\n          (2): ReLU6(inplace=True)\n        )\n        (1): ConvNormActivation(\n          (0): Conv2d(384, 384, kernel_size=(3, 3), stride=(1, 1), padding=(1, 1), groups=384, bias=False)\n          (1): BatchNorm2d(384, eps=1e-05, momentum=0.1, affine=True, track_running_stats=True)\n          (2): ReLU6(inplace=True)\n        )\n        (2): Conv2d(384, 64, kernel_size=(1, 1), stride=(1, 1), bias=False)\n        (3): BatchNorm2d(64, eps=1e-05, momentum=0.1, affine=True, track_running_stats=True)\n      )\n    )\n    (10): InvertedResidual(\n      (conv): Sequential(\n        (0): ConvNormActivation(\n          (0): Conv2d(64, 384, kernel_size=(1, 1), stride=(1, 1), bias=False)\n          (1): BatchNorm2d(384, eps=1e-05, momentum=0.1, affine=True, track_running_stats=True)\n          (2): ReLU6(inplace=True)\n        )\n        (1): ConvNormActivation(\n          (0): Conv2d(384, 384, kernel_size=(3, 3), stride=(1, 1), padding=(1, 1), groups=384, bias=False)\n          (1): BatchNorm2d(384, eps=1e-05, momentum=0.1, affine=True, track_running_stats=True)\n          (2): ReLU6(inplace=True)\n        )\n        (2): Conv2d(384, 64, kernel_size=(1, 1), stride=(1, 1), bias=False)\n        (3): BatchNorm2d(64, eps=1e-05, momentum=0.1, affine=True, track_running_stats=True)\n      )\n    )\n    (11): InvertedResidual(\n      (conv): Sequential(\n        (0): ConvNormActivation(\n          (0): Conv2d(64, 384, kernel_size=(1, 1), stride=(1, 1), bias=False)\n          (1): BatchNorm2d(384, eps=1e-05, momentum=0.1, affine=True, track_running_stats=True)\n          (2): ReLU6(inplace=True)\n        )\n        (1): ConvNormActivation(\n          (0): Conv2d(384, 384, kernel_size=(3, 3), stride=(1, 1), padding=(1, 1), groups=384, bias=False)\n          (1): BatchNorm2d(384, eps=1e-05, momentum=0.1, affine=True, track_running_stats=True)\n          (2): ReLU6(inplace=True)\n        )\n        (2): Conv2d(384, 96, kernel_size=(1, 1), stride=(1, 1), bias=False)\n        (3): BatchNorm2d(96, eps=1e-05, momentum=0.1, affine=True, track_running_stats=True)\n      )\n    )\n    (12): InvertedResidual(\n      (conv): Sequential(\n        (0): ConvNormActivation(\n          (0): Conv2d(96, 576, kernel_size=(1, 1), stride=(1, 1), bias=False)\n          (1): BatchNorm2d(576, eps=1e-05, momentum=0.1, affine=True, track_running_stats=True)\n          (2): ReLU6(inplace=True)\n        )\n        (1): ConvNormActivation(\n          (0): Conv2d(576, 576, kernel_size=(3, 3), stride=(1, 1), padding=(1, 1), groups=576, bias=False)\n          (1): BatchNorm2d(576, eps=1e-05, momentum=0.1, affine=True, track_running_stats=True)\n          (2): ReLU6(inplace=True)\n        )\n        (2): Conv2d(576, 96, kernel_size=(1, 1), stride=(1, 1), bias=False)\n        (3): BatchNorm2d(96, eps=1e-05, momentum=0.1, affine=True, track_running_stats=True)\n      )\n    )\n    (13): InvertedResidual(\n      (conv): Sequential(\n        (0): ConvNormActivation(\n          (0): Conv2d(96, 576, kernel_size=(1, 1), stride=(1, 1), bias=False)\n          (1): BatchNorm2d(576, eps=1e-05, momentum=0.1, affine=True, track_running_stats=True)\n          (2): ReLU6(inplace=True)\n        )\n        (1): ConvNormActivation(\n          (0): Conv2d(576, 576, kernel_size=(3, 3), stride=(1, 1), padding=(1, 1), groups=576, bias=False)\n          (1): BatchNorm2d(576, eps=1e-05, momentum=0.1, affine=True, track_running_stats=True)\n          (2): ReLU6(inplace=True)\n        )\n        (2): Conv2d(576, 96, kernel_size=(1, 1), stride=(1, 1), bias=False)\n        (3): BatchNorm2d(96, eps=1e-05, momentum=0.1, affine=True, track_running_stats=True)\n      )\n    )\n    (14): InvertedResidual(\n      (conv): Sequential(\n        (0): ConvNormActivation(\n          (0): Conv2d(96, 576, kernel_size=(1, 1), stride=(1, 1), bias=False)\n          (1): BatchNorm2d(576, eps=1e-05, momentum=0.1, affine=True, track_running_stats=True)\n          (2): ReLU6(inplace=True)\n        )\n        (1): ConvNormActivation(\n          (0): Conv2d(576, 576, kernel_size=(3, 3), stride=(2, 2), padding=(1, 1), groups=576, bias=False)\n          (1): BatchNorm2d(576, eps=1e-05, momentum=0.1, affine=True, track_running_stats=True)\n          (2): ReLU6(inplace=True)\n        )\n        (2): Conv2d(576, 160, kernel_size=(1, 1), stride=(1, 1), bias=False)\n        (3): BatchNorm2d(160, eps=1e-05, momentum=0.1, affine=True, track_running_stats=True)\n      )\n    )\n    (15): InvertedResidual(\n      (conv): Sequential(\n        (0): ConvNormActivation(\n          (0): Conv2d(160, 960, kernel_size=(1, 1), stride=(1, 1), bias=False)\n          (1): BatchNorm2d(960, eps=1e-05, momentum=0.1, affine=True, track_running_stats=True)\n          (2): ReLU6(inplace=True)\n        )\n        (1): ConvNormActivation(\n          (0): Conv2d(960, 960, kernel_size=(3, 3), stride=(1, 1), padding=(1, 1), groups=960, bias=False)\n          (1): BatchNorm2d(960, eps=1e-05, momentum=0.1, affine=True, track_running_stats=True)\n          (2): ReLU6(inplace=True)\n        )\n        (2): Conv2d(960, 160, kernel_size=(1, 1), stride=(1, 1), bias=False)\n        (3): BatchNorm2d(160, eps=1e-05, momentum=0.1, affine=True, track_running_stats=True)\n      )\n    )\n    (16): InvertedResidual(\n      (conv): Sequential(\n        (0): ConvNormActivation(\n          (0): Conv2d(160, 960, kernel_size=(1, 1), stride=(1, 1), bias=False)\n          (1): BatchNorm2d(960, eps=1e-05, momentum=0.1, affine=True, track_running_stats=True)\n          (2): ReLU6(inplace=True)\n        )\n        (1): ConvNormActivation(\n          (0): Conv2d(960, 960, kernel_size=(3, 3), stride=(1, 1), padding=(1, 1), groups=960, bias=False)\n          (1): BatchNorm2d(960, eps=1e-05, momentum=0.1, affine=True, track_running_stats=True)\n          (2): ReLU6(inplace=True)\n        )\n        (2): Conv2d(960, 160, kernel_size=(1, 1), stride=(1, 1), bias=False)\n        (3): BatchNorm2d(160, eps=1e-05, momentum=0.1, affine=True, track_running_stats=True)\n      )\n    )\n    (17): InvertedResidual(\n      (conv): Sequential(\n        (0): ConvNormActivation(\n          (0): Conv2d(160, 960, kernel_size=(1, 1), stride=(1, 1), bias=False)\n          (1): BatchNorm2d(960, eps=1e-05, momentum=0.1, affine=True, track_running_stats=True)\n          (2): ReLU6(inplace=True)\n        )\n        (1): ConvNormActivation(\n          (0): Conv2d(960, 960, kernel_size=(3, 3), stride=(1, 1), padding=(1, 1), groups=960, bias=False)\n          (1): BatchNorm2d(960, eps=1e-05, momentum=0.1, affine=True, track_running_stats=True)\n          (2): ReLU6(inplace=True)\n        )\n        (2): Conv2d(960, 320, kernel_size=(1, 1), stride=(1, 1), bias=False)\n        (3): BatchNorm2d(320, eps=1e-05, momentum=0.1, affine=True, track_running_stats=True)\n      )\n    )\n    (18): ConvNormActivation(\n      (0): Conv2d(320, 1280, kernel_size=(1, 1), stride=(1, 1), bias=False)\n      (1): BatchNorm2d(1280, eps=1e-05, momentum=0.1, affine=True, track_running_stats=True)\n      (2): ReLU6(inplace=True)\n    )\n  )\n  (classifier): Sequential(\n    (0): Dropout(p=0.5, inplace=False)\n    (1): Linear(in_features=1280, out_features=100, bias=True)\n    (2): LeakyReLU(negative_slope=0.01)\n    (3): Dropout(p=0.5, inplace=False)\n    (4): Linear(in_features=100, out_features=10, bias=True)\n  )\n)"
     },
     "execution_count": 49,
     "metadata": {},
     "output_type": "execute_result"
    }
   ],
   "source": [
    "model.classifier = nn.Sequential(nn.Dropout(p=0.5),\n",
    "                                 nn.Linear(in_features=1280, out_features=100, bias=True),\n",
    "                                 nn.LeakyReLU(),\n",
    "                                 nn.Dropout(p=0.5),\n",
    "                                 nn.Linear(in_features=100, out_features=10, bias=True),\n",
    "                                 )\n",
    "\n",
    "model"
   ],
   "metadata": {
    "collapsed": false,
    "pycharm": {
     "name": "#%%\n"
    }
   }
  },
  {
   "cell_type": "markdown",
   "source": [
    "### mobilenet_v3_small"
   ],
   "metadata": {
    "collapsed": false,
    "pycharm": {
     "name": "#%% md\n"
    }
   }
  },
  {
   "cell_type": "code",
   "execution_count": 50,
   "outputs": [],
   "source": [
    "# model.classifier = nn.Sequential(nn.Linear(in_features=576, out_features=256, bias=True),\n",
    "#                                  nn.Hardswish(),\n",
    "#                                  nn.Dropout(p=0.5),\n",
    "#                                  nn.Linear(in_features=256, out_features=10, bias=True),\n",
    "#                                  )\n",
    "#\n",
    "# model"
   ],
   "metadata": {
    "collapsed": false,
    "pycharm": {
     "name": "#%%\n"
    }
   }
  },
  {
   "cell_type": "markdown",
   "source": [
    "### vgg 16"
   ],
   "metadata": {
    "collapsed": false,
    "pycharm": {
     "name": "#%% md\n"
    }
   }
  },
  {
   "cell_type": "code",
   "execution_count": 51,
   "outputs": [],
   "source": [
    "# model.classifier = nn.Sequential(nn.Linear(in_features=25088, out_features=4096, bias=True),\n",
    "#                                  nn.LeakyReLU(),\n",
    "#                                  nn.Dropout(p=0.5),\n",
    "#                                  nn.Linear(in_features=4096, out_features=512, bias=True),\n",
    "#                                  nn.LeakyReLU(),\n",
    "#                                  nn.Dropout(p=0.5),\n",
    "#                                  nn.Linear(in_features=512, out_features=10, bias=True)\n",
    "#                                  )\n",
    "#\n",
    "# model"
   ],
   "metadata": {
    "collapsed": false,
    "pycharm": {
     "name": "#%%\n"
    }
   }
  },
  {
   "cell_type": "markdown",
   "source": [
    "### resnet"
   ],
   "metadata": {
    "collapsed": false,
    "pycharm": {
     "name": "#%% md\n"
    }
   }
  },
  {
   "cell_type": "code",
   "execution_count": 52,
   "outputs": [],
   "source": [
    "# num_ftrs = model.fc.in_features\n",
    "# model.fc = nn.Linear(num_ftrs, 10)"
   ],
   "metadata": {
    "collapsed": false,
    "pycharm": {
     "name": "#%%\n"
    }
   }
  },
  {
   "cell_type": "markdown",
   "source": [
    "## build own model - pool performance"
   ],
   "metadata": {
    "collapsed": false,
    "pycharm": {
     "name": "#%% md\n"
    }
   }
  },
  {
   "cell_type": "code",
   "execution_count": 53,
   "outputs": [],
   "source": [
    "# class Cifar10Model(nn.Module):\n",
    "#     def __init__(self):\n",
    "#         super().__init__()\n",
    "#         self.network = nn.Sequential(\n",
    "#             nn.Conv2d(3, 32, kernel_size=3, padding=1),\n",
    "#             nn.ReLU(),\n",
    "#             nn.Conv2d(32, 64, kernel_size=3, stride=1, padding=1),\n",
    "#             nn.ReLU(),\n",
    "#             nn.MaxPool2d(2, 2), # output: 64 x 16 x 16\n",
    "#\n",
    "#             nn.Conv2d(64, 128, kernel_size=3, stride=1, padding=1),\n",
    "#             nn.ReLU(),\n",
    "#             nn.Conv2d(128, 128, kernel_size=3, stride=1, padding=1),\n",
    "#             nn.ReLU(),\n",
    "#             nn.MaxPool2d(2, 2), # output: 128 x 8 x 8\n",
    "#\n",
    "#\n",
    "#             nn.Flatten(),\n",
    "#             nn.Linear(128*8*8, 1024),\n",
    "#             nn.ReLU(),\n",
    "#             nn.Linear(1024, 512),\n",
    "#             nn.ReLU(),\n",
    "#             nn.Linear(512, 10))\n",
    "#\n",
    "#\n",
    "#     def forward(self, xb):\n",
    "#         return self.network(xb)\n",
    "#\n",
    "#\n",
    "# my_model = Cifar10Model()"
   ],
   "metadata": {
    "collapsed": false,
    "pycharm": {
     "name": "#%%\n"
    }
   }
  },
  {
   "cell_type": "markdown",
   "source": [
    "# Training"
   ],
   "metadata": {
    "collapsed": false,
    "pycharm": {
     "name": "#%% md\n"
    }
   }
  },
  {
   "cell_type": "code",
   "execution_count": 54,
   "outputs": [
    {
     "name": "stdout",
     "output_type": "stream",
     "text": [
      "Epoch 0/24\n",
      "----------\n",
      "train Loss: 1.7007 Acc: 0.3810\n",
      "val Loss: 1.0795 Acc: 0.6221\n",
      "\n",
      "Epoch 1/24\n",
      "----------\n",
      "train Loss: 1.0332 Acc: 0.6487\n",
      "val Loss: 0.8401 Acc: 0.7091\n",
      "\n",
      "Epoch 2/24\n",
      "----------\n",
      "train Loss: 0.8319 Acc: 0.7207\n",
      "val Loss: 0.7409 Acc: 0.7438\n",
      "\n",
      "Epoch 3/24\n",
      "----------\n",
      "train Loss: 0.7226 Acc: 0.7577\n",
      "val Loss: 0.7019 Acc: 0.7574\n",
      "\n",
      "Epoch 4/24\n",
      "----------\n",
      "train Loss: 0.6291 Acc: 0.7918\n",
      "val Loss: 0.6736 Acc: 0.7705\n",
      "\n",
      "Epoch 5/24\n",
      "----------\n",
      "train Loss: 0.5524 Acc: 0.8184\n",
      "val Loss: 0.6580 Acc: 0.7712\n",
      "\n",
      "Epoch 6/24\n",
      "----------\n",
      "train Loss: 0.4918 Acc: 0.8395\n",
      "val Loss: 0.6564 Acc: 0.7825\n",
      "\n",
      "Epoch 7/24\n",
      "----------\n",
      "train Loss: 0.4097 Acc: 0.8672\n",
      "val Loss: 0.6382 Acc: 0.7917\n",
      "\n",
      "Epoch 8/24\n",
      "----------\n",
      "train Loss: 0.3866 Acc: 0.8774\n",
      "val Loss: 0.6359 Acc: 0.7926\n",
      "\n",
      "Epoch 9/24\n",
      "----------\n",
      "train Loss: 0.3715 Acc: 0.8789\n",
      "val Loss: 0.6463 Acc: 0.7906\n",
      "\n",
      "Epoch 10/24\n",
      "----------\n",
      "train Loss: 0.3566 Acc: 0.8857\n",
      "val Loss: 0.6575 Acc: 0.7887\n",
      "\n",
      "Epoch 11/24\n",
      "----------\n",
      "train Loss: 0.3485 Acc: 0.8869\n",
      "val Loss: 0.6562 Acc: 0.7872\n",
      "\n",
      "Epoch 12/24\n",
      "----------\n",
      "train Loss: 0.3389 Acc: 0.8898\n",
      "val Loss: 0.6701 Acc: 0.7856\n",
      "\n",
      "Epoch 13/24\n",
      "----------\n",
      "train Loss: 0.3318 Acc: 0.8933\n",
      "val Loss: 0.6686 Acc: 0.7904\n",
      "\n",
      "Epoch 14/24\n",
      "----------\n",
      "train Loss: 0.3219 Acc: 0.8957\n",
      "val Loss: 0.6738 Acc: 0.7892\n",
      "\n",
      "Epoch 15/24\n",
      "----------\n",
      "train Loss: 0.3169 Acc: 0.8956\n",
      "val Loss: 0.6669 Acc: 0.7892\n",
      "\n",
      "Epoch 16/24\n",
      "----------\n",
      "train Loss: 0.3194 Acc: 0.8971\n",
      "val Loss: 0.6742 Acc: 0.7896\n",
      "\n",
      "Epoch 17/24\n",
      "----------\n",
      "train Loss: 0.3167 Acc: 0.8973\n",
      "val Loss: 0.6650 Acc: 0.7897\n",
      "\n",
      "Epoch 18/24\n",
      "----------\n",
      "train Loss: 0.3146 Acc: 0.8995\n",
      "val Loss: 0.6668 Acc: 0.7892\n",
      "\n",
      "Epoch 19/24\n",
      "----------\n",
      "train Loss: 0.3184 Acc: 0.8963\n",
      "val Loss: 0.6754 Acc: 0.7883\n",
      "\n",
      "Epoch 20/24\n",
      "----------\n",
      "train Loss: 0.3120 Acc: 0.8988\n",
      "val Loss: 0.6739 Acc: 0.7909\n",
      "\n",
      "Epoch 21/24\n",
      "----------\n",
      "train Loss: 0.3198 Acc: 0.8972\n",
      "val Loss: 0.6729 Acc: 0.7909\n",
      "\n",
      "Epoch 22/24\n",
      "----------\n",
      "train Loss: 0.3135 Acc: 0.8988\n",
      "val Loss: 0.6737 Acc: 0.7882\n",
      "\n",
      "Epoch 23/24\n",
      "----------\n",
      "train Loss: 0.3076 Acc: 0.9013\n",
      "val Loss: 0.6726 Acc: 0.7896\n",
      "\n",
      "Epoch 24/24\n",
      "----------\n",
      "train Loss: 0.3116 Acc: 0.8997\n",
      "val Loss: 0.6698 Acc: 0.7895\n",
      "\n",
      "Training complete in 74m 18s\n",
      "Best val Acc: 0.792600\n"
     ]
    }
   ],
   "source": [
    "# set up criterion as cross entropy loss\n",
    "criterion = nn.CrossEntropyLoss()\n",
    "\n",
    "# set up optimizer as SGD\n",
    "optimizer = optim.SGD(model.parameters(), lr=0.001, momentum=0.9, weight_decay=0.01)\n",
    "\n",
    "exp_lr_scheduler = lr_scheduler.StepLR(optimizer, step_size=7, gamma=0.1)\n",
    "\n",
    "# train model\n",
    "model = train_model(model, criterion, optimizer, exp_lr_scheduler, num_epochs=25)"
   ],
   "metadata": {
    "collapsed": false,
    "pycharm": {
     "name": "#%%\n"
    }
   }
  },
  {
   "cell_type": "markdown",
   "source": [
    "# Prediction"
   ],
   "metadata": {
    "collapsed": false,
    "pycharm": {
     "name": "#%% md\n"
    }
   }
  },
  {
   "cell_type": "code",
   "execution_count": 55,
   "outputs": [],
   "source": [
    "import cv2\n",
    "\n",
    "def predict_images(image, model):\n",
    "    image = image.unsqueeze(0)\n",
    "    out = model(image)\n",
    "    _, pred = torch.max(out, 1)\n",
    "    return classes[pred[0]]\n"
   ],
   "metadata": {
    "collapsed": false,
    "pycharm": {
     "name": "#%%\n"
    }
   }
  },
  {
   "cell_type": "markdown",
   "source": [
    "# Find all red automobile"
   ],
   "metadata": {
    "collapsed": false,
    "pycharm": {
     "name": "#%% md\n"
    }
   }
  },
  {
   "cell_type": "code",
   "execution_count": 56,
   "outputs": [],
   "source": [
    "def check_red(image:np.ndarray) -> bool:\n",
    "    \"\"\"\n",
    "    check if the image is red-ish\n",
    "    :param image: image\n",
    "    :return: bool\n",
    "    \"\"\"\n",
    "    num_r = 0\n",
    "    # crop center\n",
    "    # for each pixel is red\n",
    "    mat_r = image.reshape(3,32,32)[0]\n",
    "    mat_g = image.reshape(3,32,32)[1]\n",
    "    mat_b = image.reshape(3,32,32)[2]\n",
    "    # r > 100 and r > g*1.5 and r > b*1.5\n",
    "    for i in range(4,len(mat_r)-3):\n",
    "        for j in range(4, len(mat_r[i])-3):\n",
    "            if (mat_r[i,j] > 100) and \\\n",
    "               (mat_r[i,j] > 2*mat_g[i,j]) and \\\n",
    "               (mat_r[i,j] > 2*mat_b[i,j]) :\n",
    "                num_r += 1\n",
    "    if num_r > int(24*24/5):\n",
    "        print(\"Number of red pixel:\", num_r)\n",
    "        return True\n",
    "\n",
    "    return False\n",
    "\n"
   ],
   "metadata": {
    "collapsed": false,
    "pycharm": {
     "name": "#%%\n"
    }
   }
  },
  {
   "cell_type": "markdown",
   "source": [
    "### save images"
   ],
   "metadata": {
    "collapsed": false,
    "pycharm": {
     "name": "#%% md\n"
    }
   }
  },
  {
   "cell_type": "code",
   "execution_count": 59,
   "outputs": [
    {
     "name": "stdout",
     "output_type": "stream",
     "text": [
      "Number of red pixel: 169\n",
      "Index: 6 Label: b'automobile' , Predicted: b'automobile'\n",
      "Number of red pixel: 178\n",
      "Index: 81 Label: b'automobile' , Predicted: b'automobile'\n",
      "Number of red pixel: 250\n",
      "Index: 114 Label: b'automobile' , Predicted: b'automobile'\n",
      "Number of red pixel: 177\n",
      "Index: 231 Label: b'automobile' , Predicted: b'automobile'\n",
      "Number of red pixel: 175\n",
      "Index: 281 Label: b'airplane' , Predicted: b'automobile'\n",
      "Number of red pixel: 155\n",
      "Index: 532 Label: b'truck' , Predicted: b'automobile'\n",
      "Number of red pixel: 159\n",
      "Index: 677 Label: b'automobile' , Predicted: b'automobile'\n",
      "Number of red pixel: 131\n",
      "Index: 941 Label: b'automobile' , Predicted: b'automobile'\n",
      "Number of red pixel: 164\n",
      "Index: 973 Label: b'automobile' , Predicted: b'automobile'\n",
      "Number of red pixel: 163\n",
      "Index: 1098 Label: b'automobile' , Predicted: b'automobile'\n",
      "Number of red pixel: 135\n",
      "Index: 1177 Label: b'truck' , Predicted: b'automobile'\n",
      "Number of red pixel: 118\n",
      "Index: 1234 Label: b'automobile' , Predicted: b'automobile'\n",
      "Number of red pixel: 152\n",
      "Index: 1270 Label: b'automobile' , Predicted: b'automobile'\n",
      "Number of red pixel: 176\n",
      "Index: 1301 Label: b'automobile' , Predicted: b'automobile'\n",
      "Number of red pixel: 168\n",
      "Index: 1408 Label: b'automobile' , Predicted: b'automobile'\n",
      "Number of red pixel: 118\n",
      "Index: 1467 Label: b'automobile' , Predicted: b'automobile'\n",
      "Number of red pixel: 224\n",
      "Index: 1677 Label: b'automobile' , Predicted: b'automobile'\n",
      "Number of red pixel: 317\n",
      "Index: 1732 Label: b'truck' , Predicted: b'automobile'\n",
      "Number of red pixel: 142\n",
      "Index: 1747 Label: b'automobile' , Predicted: b'automobile'\n",
      "Number of red pixel: 172\n",
      "Index: 1907 Label: b'automobile' , Predicted: b'automobile'\n",
      "Number of red pixel: 290\n",
      "Index: 1970 Label: b'automobile' , Predicted: b'automobile'\n",
      "Number of red pixel: 285\n",
      "Index: 2103 Label: b'automobile' , Predicted: b'automobile'\n",
      "Number of red pixel: 303\n",
      "Index: 2258 Label: b'automobile' , Predicted: b'automobile'\n",
      "Number of red pixel: 350\n",
      "Index: 2345 Label: b'automobile' , Predicted: b'automobile'\n",
      "Number of red pixel: 382\n",
      "Index: 2439 Label: b'automobile' , Predicted: b'automobile'\n",
      "Number of red pixel: 170\n",
      "Index: 2541 Label: b'automobile' , Predicted: b'automobile'\n",
      "Number of red pixel: 125\n",
      "Index: 2819 Label: b'automobile' , Predicted: b'automobile'\n",
      "Number of red pixel: 223\n",
      "Index: 2873 Label: b'truck' , Predicted: b'automobile'\n",
      "Number of red pixel: 135\n",
      "Index: 3029 Label: b'automobile' , Predicted: b'automobile'\n",
      "Number of red pixel: 166\n",
      "Index: 3039 Label: b'automobile' , Predicted: b'automobile'\n",
      "Number of red pixel: 142\n",
      "Index: 3058 Label: b'automobile' , Predicted: b'automobile'\n",
      "Number of red pixel: 143\n",
      "Index: 3066 Label: b'automobile' , Predicted: b'automobile'\n",
      "Number of red pixel: 164\n",
      "Index: 3153 Label: b'automobile' , Predicted: b'automobile'\n",
      "Number of red pixel: 181\n",
      "Index: 3418 Label: b'automobile' , Predicted: b'automobile'\n",
      "Number of red pixel: 164\n",
      "Index: 3488 Label: b'automobile' , Predicted: b'automobile'\n",
      "Number of red pixel: 188\n",
      "Index: 3632 Label: b'automobile' , Predicted: b'automobile'\n",
      "Number of red pixel: 268\n",
      "Index: 3678 Label: b'automobile' , Predicted: b'automobile'\n",
      "Number of red pixel: 169\n",
      "Index: 3723 Label: b'automobile' , Predicted: b'automobile'\n",
      "Number of red pixel: 233\n",
      "Index: 3789 Label: b'truck' , Predicted: b'automobile'\n",
      "Number of red pixel: 201\n",
      "Index: 4285 Label: b'automobile' , Predicted: b'automobile'\n",
      "Number of red pixel: 146\n",
      "Index: 4292 Label: b'automobile' , Predicted: b'automobile'\n",
      "Number of red pixel: 298\n",
      "Index: 4442 Label: b'cat' , Predicted: b'automobile'\n",
      "Number of red pixel: 127\n",
      "Index: 4531 Label: b'automobile' , Predicted: b'automobile'\n",
      "Number of red pixel: 213\n",
      "Index: 4602 Label: b'automobile' , Predicted: b'automobile'\n",
      "Number of red pixel: 117\n",
      "Index: 4663 Label: b'automobile' , Predicted: b'automobile'\n",
      "Number of red pixel: 147\n",
      "Index: 4713 Label: b'automobile' , Predicted: b'automobile'\n",
      "Number of red pixel: 139\n",
      "Index: 4755 Label: b'automobile' , Predicted: b'automobile'\n",
      "Number of red pixel: 168\n",
      "Index: 4766 Label: b'automobile' , Predicted: b'automobile'\n",
      "Number of red pixel: 152\n",
      "Index: 4773 Label: b'automobile' , Predicted: b'automobile'\n",
      "Number of red pixel: 292\n",
      "Index: 4790 Label: b'automobile' , Predicted: b'automobile'\n",
      "Number of red pixel: 190\n",
      "Index: 4841 Label: b'automobile' , Predicted: b'automobile'\n",
      "Number of red pixel: 121\n",
      "Index: 4855 Label: b'automobile' , Predicted: b'automobile'\n",
      "Number of red pixel: 149\n",
      "Index: 5323 Label: b'automobile' , Predicted: b'automobile'\n",
      "Number of red pixel: 164\n",
      "Index: 5353 Label: b'automobile' , Predicted: b'automobile'\n",
      "Number of red pixel: 138\n",
      "Index: 5380 Label: b'automobile' , Predicted: b'automobile'\n",
      "Number of red pixel: 122\n",
      "Index: 5431 Label: b'automobile' , Predicted: b'automobile'\n",
      "Number of red pixel: 117\n",
      "Index: 5498 Label: b'truck' , Predicted: b'automobile'\n",
      "Number of red pixel: 164\n",
      "Index: 5628 Label: b'ship' , Predicted: b'automobile'\n",
      "Number of red pixel: 320\n",
      "Index: 5723 Label: b'automobile' , Predicted: b'automobile'\n",
      "Number of red pixel: 212\n",
      "Index: 5864 Label: b'truck' , Predicted: b'automobile'\n",
      "Number of red pixel: 132\n",
      "Index: 5905 Label: b'automobile' , Predicted: b'automobile'\n",
      "Number of red pixel: 160\n",
      "Index: 5918 Label: b'automobile' , Predicted: b'automobile'\n",
      "Number of red pixel: 225\n",
      "Index: 6159 Label: b'automobile' , Predicted: b'automobile'\n",
      "Number of red pixel: 253\n",
      "Index: 6581 Label: b'automobile' , Predicted: b'automobile'\n",
      "Number of red pixel: 250\n",
      "Index: 6585 Label: b'automobile' , Predicted: b'automobile'\n",
      "Number of red pixel: 184\n",
      "Index: 6701 Label: b'automobile' , Predicted: b'automobile'\n",
      "Number of red pixel: 233\n",
      "Index: 6770 Label: b'automobile' , Predicted: b'automobile'\n",
      "Number of red pixel: 139\n",
      "Index: 6915 Label: b'automobile' , Predicted: b'automobile'\n",
      "Number of red pixel: 168\n",
      "Index: 6982 Label: b'automobile' , Predicted: b'automobile'\n",
      "Number of red pixel: 158\n",
      "Index: 6984 Label: b'automobile' , Predicted: b'automobile'\n",
      "Number of red pixel: 182\n",
      "Index: 7136 Label: b'automobile' , Predicted: b'automobile'\n",
      "Number of red pixel: 230\n",
      "Index: 7208 Label: b'automobile' , Predicted: b'automobile'\n",
      "Number of red pixel: 151\n",
      "Index: 7276 Label: b'automobile' , Predicted: b'automobile'\n",
      "Number of red pixel: 334\n",
      "Index: 7282 Label: b'automobile' , Predicted: b'automobile'\n",
      "Number of red pixel: 389\n",
      "Index: 7359 Label: b'automobile' , Predicted: b'automobile'\n",
      "Number of red pixel: 252\n",
      "Index: 7363 Label: b'automobile' , Predicted: b'automobile'\n",
      "Number of red pixel: 169\n",
      "Index: 7516 Label: b'automobile' , Predicted: b'automobile'\n",
      "Number of red pixel: 242\n",
      "Index: 7532 Label: b'automobile' , Predicted: b'automobile'\n",
      "Number of red pixel: 168\n",
      "Index: 7583 Label: b'automobile' , Predicted: b'automobile'\n",
      "Number of red pixel: 190\n",
      "Index: 7584 Label: b'automobile' , Predicted: b'automobile'\n",
      "Number of red pixel: 149\n",
      "Index: 7656 Label: b'automobile' , Predicted: b'automobile'\n",
      "Number of red pixel: 190\n",
      "Index: 7894 Label: b'automobile' , Predicted: b'automobile'\n",
      "Number of red pixel: 185\n",
      "Index: 8028 Label: b'automobile' , Predicted: b'automobile'\n",
      "Number of red pixel: 137\n",
      "Index: 8155 Label: b'automobile' , Predicted: b'automobile'\n",
      "Number of red pixel: 128\n",
      "Index: 8297 Label: b'automobile' , Predicted: b'automobile'\n",
      "Number of red pixel: 131\n",
      "Index: 8417 Label: b'automobile' , Predicted: b'automobile'\n",
      "Number of red pixel: 265\n",
      "Index: 8495 Label: b'automobile' , Predicted: b'automobile'\n",
      "Number of red pixel: 197\n",
      "Index: 8503 Label: b'automobile' , Predicted: b'automobile'\n",
      "Number of red pixel: 168\n",
      "Index: 8579 Label: b'automobile' , Predicted: b'automobile'\n",
      "Number of red pixel: 127\n",
      "Index: 8663 Label: b'automobile' , Predicted: b'automobile'\n",
      "Number of red pixel: 196\n",
      "Index: 8880 Label: b'automobile' , Predicted: b'automobile'\n",
      "Number of red pixel: 191\n",
      "Index: 9179 Label: b'automobile' , Predicted: b'automobile'\n",
      "Number of red pixel: 191\n",
      "Index: 9232 Label: b'automobile' , Predicted: b'automobile'\n",
      "Number of red pixel: 119\n",
      "Index: 9351 Label: b'automobile' , Predicted: b'automobile'\n",
      "Number of red pixel: 160\n",
      "Index: 9421 Label: b'automobile' , Predicted: b'automobile'\n",
      "Number of red pixel: 131\n",
      "Index: 9662 Label: b'automobile' , Predicted: b'automobile'\n",
      "Number of red pixel: 143\n",
      "Index: 9916 Label: b'automobile' , Predicted: b'automobile'\n"
     ]
    }
   ],
   "source": [
    "for i in range(len(test_dataset)):\n",
    "    image,label = test_dataset[i]\n",
    "    if predict_images(image, model) == b'automobile':\n",
    "        # print('Label:', classes[label], ', Predicted:', predict_images(image, model))\n",
    "        image_view = test_dataset.data[i]\n",
    "        if check_red(image_view):\n",
    "            print('Index:', str(i),'Label:', classes[label], ', Predicted:', predict_images(image, model))\n",
    "            # show_img(image_view)\n",
    "            save_img(image_view, f\"images/red_automobile/{str(i)}.jpg\")"
   ],
   "metadata": {
    "collapsed": false,
    "pycharm": {
     "name": "#%%\n"
    }
   }
  },
  {
   "cell_type": "markdown",
   "source": [
    "# saving model"
   ],
   "metadata": {
    "collapsed": false
   }
  },
  {
   "cell_type": "code",
   "execution_count": 36,
   "outputs": [],
   "source": [
    "\n",
    "PATH = 'models/mobile_v2_1.h5'\n",
    "torch.save(model, PATH)"
   ],
   "metadata": {
    "collapsed": false,
    "pycharm": {
     "name": "#%%\n"
    }
   }
  },
  {
   "cell_type": "markdown",
   "source": [
    "# load model"
   ],
   "metadata": {
    "collapsed": false
   }
  },
  {
   "cell_type": "code",
   "execution_count": 20,
   "outputs": [
    {
     "ename": "NameError",
     "evalue": "name 'Net' is not defined",
     "output_type": "error",
     "traceback": [
      "\u001B[1;31m---------------------------------------------------------------------------\u001B[0m",
      "\u001B[1;31mNameError\u001B[0m                                 Traceback (most recent call last)",
      "Input \u001B[1;32mIn [20]\u001B[0m, in \u001B[0;36m<module>\u001B[1;34m\u001B[0m\n\u001B[1;32m----> 1\u001B[0m net \u001B[38;5;241m=\u001B[39m \u001B[43mNet\u001B[49m()\n\u001B[0;32m      2\u001B[0m net\u001B[38;5;241m.\u001B[39mload_state_dict(torch\u001B[38;5;241m.\u001B[39mload(PATH))\n",
      "\u001B[1;31mNameError\u001B[0m: name 'Net' is not defined"
     ]
    }
   ],
   "source": [
    "\n",
    "PATH = 'models/mobile_v2_1.h5'\n",
    "model = torch.load(PATH)\n",
    "model.eval()"
   ],
   "metadata": {
    "collapsed": false,
    "pycharm": {
     "name": "#%%\n"
    }
   }
  },
  {
   "cell_type": "code",
   "execution_count": null,
   "outputs": [],
   "source": [],
   "metadata": {
    "collapsed": false,
    "pycharm": {
     "name": "#%%\n"
    }
   }
  }
 ],
 "metadata": {
  "kernelspec": {
   "display_name": "Python 3",
   "language": "python",
   "name": "python3"
  },
  "language_info": {
   "codemirror_mode": {
    "name": "ipython",
    "version": 2
   },
   "file_extension": ".py",
   "mimetype": "text/x-python",
   "name": "python",
   "nbconvert_exporter": "python",
   "pygments_lexer": "ipython2",
   "version": "2.7.6"
  }
 },
 "nbformat": 4,
 "nbformat_minor": 0
}